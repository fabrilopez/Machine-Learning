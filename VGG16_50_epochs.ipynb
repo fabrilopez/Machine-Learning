{
  "nbformat": 4,
  "nbformat_minor": 0,
  "metadata": {
    "colab": {
      "name": "VGG16_50_epochs",
      "provenance": [],
      "collapsed_sections": []
    },
    "kernelspec": {
      "name": "python3",
      "display_name": "Python 3"
    },
    "accelerator": "GPU"
  },
  "cells": [
    {
      "cell_type": "code",
      "metadata": {
        "id": "-KgZaVqbM5pW"
      },
      "source": [
        "from __future__ import absolute_import, division, print_function, unicode_literals"
      ],
      "execution_count": null,
      "outputs": []
    },
    {
      "cell_type": "code",
      "metadata": {
        "id": "8TJVeWmG2nRH"
      },
      "source": [
        "try:\n",
        "  # Use the %tensorflow_version magic if in colab.\n",
        "  %tensorflow_version 2.x\n",
        "except Exception:\n",
        "  pass\n",
        "\n",
        "import tensorflow as tf"
      ],
      "execution_count": null,
      "outputs": []
    },
    {
      "cell_type": "code",
      "metadata": {
        "id": "HrD-1JU62v_y"
      },
      "source": [
        "# clonar repositorio \n",
        "! git clone https://github.com/fabrilopez/datasets.git"
      ],
      "execution_count": null,
      "outputs": []
    },
    {
      "cell_type": "code",
      "metadata": {
        "id": "LrjmNtNT24Z_"
      },
      "source": [
        "AUTOTUNE = tf.data.experimental.AUTOTUNE"
      ],
      "execution_count": null,
      "outputs": []
    },
    {
      "cell_type": "code",
      "metadata": {
        "id": "Qgw3y4Bs27UP"
      },
      "source": [
        "import numpy as np\n",
        "import matplotlib.pyplot as plt\n",
        "import random\n",
        "import pathlib"
      ],
      "execution_count": null,
      "outputs": []
    },
    {
      "cell_type": "code",
      "metadata": {
        "id": "w9TiErLWKSH2"
      },
      "source": [
        "from tensorflow.keras.layers import Conv2D, MaxPooling2D, Flatten, Dense\n",
        "from keras.applications.vgg16 import VGG16"
      ],
      "execution_count": null,
      "outputs": []
    },
    {
      "cell_type": "code",
      "metadata": {
        "id": "OSUbqNMC9xLh"
      },
      "source": [
        "tf.__version__"
      ],
      "execution_count": null,
      "outputs": []
    },
    {
      "cell_type": "code",
      "metadata": {
        "id": "hcLWHe_YB3ME"
      },
      "source": [
        "data_dir = 'datasets/dataset_500'\n",
        "data_dir = pathlib.Path(data_dir)\n",
        "data_dir"
      ],
      "execution_count": null,
      "outputs": []
    },
    {
      "cell_type": "code",
      "metadata": {
        "id": "KnBG77zvCHTf"
      },
      "source": [
        "label_names={'aca_315': 0, 'buck_guapo': 1, 'buck_meteoro': 2, 'klein_escorpion': 3}\n",
        "label_names"
      ],
      "execution_count": null,
      "outputs": []
    },
    {
      "cell_type": "code",
      "metadata": {
        "id": "cdGKIJDA3HqP"
      },
      "source": [
        "BATCH_SIZE = 64\n",
        "IMG_HEIGHT = 224\n",
        "IMG_WIDTH = 224\n",
        "IMG_SHAPE = (IMG_WIDTH, IMG_HEIGHT, 3)"
      ],
      "execution_count": null,
      "outputs": []
    },
    {
      "cell_type": "code",
      "metadata": {
        "id": "IgM4y5CUWcq7"
      },
      "source": [
        "epochs = 50\r\n",
        "init_lr = 0.0001\r\n",
        "optimizer = tf.keras.optimizers.Adam(lr=init_lr, decay=init_lr / epochs)"
      ],
      "execution_count": null,
      "outputs": []
    },
    {
      "cell_type": "code",
      "metadata": {
        "id": "nExEURZ-MD99"
      },
      "source": [
        "all_images = list(data_dir.glob('*/*'))\n",
        "all_images = [str(path) for path in all_images]\n",
        "random.shuffle(all_images)\n",
        "\n",
        "all_labels=[label_names[pathlib.Path(path).parent.name] for path in all_images]\n",
        "\n",
        "data_size = len(all_images)\n",
        "\n",
        "train_test_split = (int)(data_size*0.2)\n",
        "\n",
        "x_train = all_images[train_test_split:]\n",
        "y_train = all_labels[train_test_split:]\n",
        "\n",
        "x_validation = all_images[:train_test_split]\n",
        "y_validation = all_labels[:train_test_split]\n"
      ],
      "execution_count": null,
      "outputs": []
    },
    {
      "cell_type": "code",
      "metadata": {
        "id": "ckowQoRU9ZR5"
      },
      "source": [
        "len(x_train), len(y_train), len(x_validation), len(y_validation)"
      ],
      "execution_count": null,
      "outputs": []
    },
    {
      "cell_type": "code",
      "metadata": {
        "id": "bP0B1ktZ4mb7"
      },
      "source": [
        "def decode_img(x,y):\n",
        "  image = tf.io.read_file(x)\n",
        "  image = tf.image.decode_jpeg(image, channels=3)\n",
        "  image = tf.cast(image, tf.float32)\n",
        "  image = (image/127.5) - 1\n",
        "  image = tf.image.resize(image, (IMG_WIDTH, IMG_HEIGHT))\n",
        "  return image,y"
      ],
      "execution_count": null,
      "outputs": []
    },
    {
      "cell_type": "code",
      "metadata": {
        "id": "dq_IMEGDXH65"
      },
      "source": [
        "def create_ds(x,y):\n",
        "  ds = tf.data.Dataset.from_tensor_slices((x,y))\n",
        "  ds = ds.map(decode_img)\n",
        "  ds = ds.shuffle(buffer_size=len(x))\n",
        "  ds = ds.repeat()\n",
        "  ds = ds.batch(BATCH_SIZE)\n",
        "  ds = ds.prefetch(buffer_size=AUTOTUNE)\n",
        "  return ds"
      ],
      "execution_count": null,
      "outputs": []
    },
    {
      "cell_type": "code",
      "metadata": {
        "id": "N-fHucvSXv7N"
      },
      "source": [
        "train_ds = create_ds(x_train,y_train)\n",
        "validation_ds=create_ds(x_validation,y_validation)"
      ],
      "execution_count": null,
      "outputs": []
    },
    {
      "cell_type": "code",
      "metadata": {
        "id": "-qXBsfqh75qa"
      },
      "source": [
        "train_ds, validation_ds"
      ],
      "execution_count": null,
      "outputs": []
    },
    {
      "cell_type": "code",
      "metadata": {
        "id": "IW4ofG4YIhBj"
      },
      "source": [
        "VGG16_MODEL=tf.keras.applications.VGG16(input_shape=IMG_SHAPE,\n",
        "                                               include_top=False,\n",
        "                                               weights='imagenet')"
      ],
      "execution_count": null,
      "outputs": []
    },
    {
      "cell_type": "code",
      "metadata": {
        "id": "CNrw_8n9Ivcg",
        "cellView": "both"
      },
      "source": [
        "VGG16_MODEL.trainable=False"
      ],
      "execution_count": null,
      "outputs": []
    },
    {
      "cell_type": "code",
      "metadata": {
        "id": "GfbIreaVjf8U"
      },
      "source": [
        "prediction_layer = tf.keras.layers.Dense(len(label_names),activation='softmax')"
      ],
      "execution_count": null,
      "outputs": []
    },
    {
      "cell_type": "code",
      "metadata": {
        "id": "3AzRcbfiI2VX"
      },
      "source": [
        "model = tf.keras.Sequential([\n",
        "  VGG16_MODEL,\n",
        "  Flatten(),\n",
        "  Dense(4096, activation='relu'),\n",
        "  prediction_layer\n",
        "])"
      ],
      "execution_count": null,
      "outputs": []
    },
    {
      "cell_type": "code",
      "metadata": {
        "id": "XljRCf734mh1"
      },
      "source": [
        "VGG16_MODEL.summary()"
      ],
      "execution_count": null,
      "outputs": []
    },
    {
      "cell_type": "code",
      "metadata": {
        "id": "6lG-cAMKGZnz"
      },
      "source": [
        "model.summary()"
      ],
      "execution_count": null,
      "outputs": []
    },
    {
      "cell_type": "code",
      "metadata": {
        "id": "Wxudbex17GCq"
      },
      "source": [
        "model.compile(optimizer=optimizer,\n",
        "              loss=tf.keras.losses.sparse_categorical_crossentropy,\n",
        "              metrics=[\"accuracy\"])"
      ],
      "execution_count": null,
      "outputs": []
    },
    {
      "cell_type": "code",
      "metadata": {
        "id": "nie9DkbeVbW9"
      },
      "source": [
        "history = model.fit(train_ds, \n",
        "                    epochs=epochs, \n",
        "                    steps_per_epoch=8, \n",
        "                    validation_steps=8, \n",
        "                    validation_data=validation_ds)"
      ],
      "execution_count": null,
      "outputs": []
    },
    {
      "cell_type": "code",
      "metadata": {
        "id": "Ag0RkjLP7VK6"
      },
      "source": [
        "validation_steps = 30\n",
        " \n",
        "loss0,accuracy0 = model.evaluate(validation_ds, steps = validation_steps)\n",
        " \n",
        "print(\"loss: {:.2f}\".format(loss0))\n",
        "print(\"accuracy: {:.2f}\".format(accuracy0))"
      ],
      "execution_count": null,
      "outputs": []
    },
    {
      "cell_type": "code",
      "metadata": {
        "id": "XNPi7vHG7g7J"
      },
      "source": [
        "# resumen para la exactitud\n",
        "plt.plot(history.history['accuracy'])\n",
        "plt.plot(history.history['val_accuracy'])\n",
        "plt.title('model accuracy')\n",
        "plt.ylabel('accuracy')\n",
        "plt.xlabel('epoch')\n",
        "plt.legend(['train', 'test'], loc='upper left')\n",
        "plt.show()"
      ],
      "execution_count": null,
      "outputs": []
    },
    {
      "cell_type": "code",
      "metadata": {
        "id": "U25ueM3w7m6i"
      },
      "source": [
        "# resumen para la funcion de pérdidas\n",
        "plt.plot(history.history['loss'])\n",
        "plt.plot(history.history['val_loss'])\n",
        "plt.title('model loss')\n",
        "plt.ylabel('loss')\n",
        "plt.xlabel('epoch')\n",
        "plt.legend(['train', 'test'], loc='upper right')\n",
        "plt.show()"
      ],
      "execution_count": null,
      "outputs": []
    },
    {
      "cell_type": "code",
      "metadata": {
        "id": "oErPZun3PAcB"
      },
      "source": [
        "# hacer una prediccion\n",
        "#image_name = 'datasets/seeds/kleinescorpion_0010.jpg'\n",
        "#image_name = 'datasets/seeds/aca315_0010.jpg'\n",
        "image_name = 'datasets/seeds/buckmeteoro_0010.jpg'\n",
        "#image_name = 'datasets/seeds/buckguapo_0010.jpg'\n",
        "image = tf.io.read_file(image_name)\n",
        "image = tf.image.decode_jpeg(image, channels=3)\n",
        "plt.imshow(image)\n",
        "image = tf.cast(image, tf.float32)\n",
        "image = (image/127.5) - 1\n",
        "image = tf.image.resize(image, (IMG_WIDTH, IMG_HEIGHT))\n",
        "image4d = tf.expand_dims(image,0)\n",
        "prediction = model.predict(image4d)"
      ],
      "execution_count": null,
      "outputs": []
    },
    {
      "cell_type": "code",
      "metadata": {
        "id": "cYT2K-JiKPhS"
      },
      "source": [
        "print(prediction)"
      ],
      "execution_count": null,
      "outputs": []
    },
    {
      "cell_type": "code",
      "metadata": {
        "id": "IpQp9oJcQFbP"
      },
      "source": [
        "np_key = np.argmax(prediction)\n",
        "for label, key in label_names.items():\n",
        "  if key == np_key:\n",
        "    print('La semilla seleccionada pertenece a la variedad: ' + label)"
      ],
      "execution_count": null,
      "outputs": []
    },
    {
      "cell_type": "code",
      "metadata": {
        "id": "izp-rnpleDZz"
      },
      "source": [
        ""
      ],
      "execution_count": null,
      "outputs": []
    }
  ]
}